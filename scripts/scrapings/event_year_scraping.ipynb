{
 "cells": [
  {
   "cell_type": "code",
   "execution_count": 19,
   "metadata": {},
   "outputs": [],
   "source": [
    "from bs4 import BeautifulSoup as bs\n",
    "import requests\n",
    "import pandas as pd\n",
    "from datetime import datetime\n",
    "from selenium.webdriver.support.ui import WebDriverWait\n",
    "from selenium.webdriver.common.by import By\n",
    "from selenium.webdriver.support import expected_conditions as EC\n",
    "from selenium import webdriver"
   ]
  },
  {
   "cell_type": "markdown",
   "metadata": {},
   "source": [
    "All the years before 2011 was getting \"HTTP Error 403: Forbidden\", so i used selenium"
   ]
  },
  {
   "cell_type": "code",
   "execution_count": 20,
   "metadata": {},
   "outputs": [],
   "source": [
    "def find_data(year_url, year, category):\n",
    "\n",
    "    url = year_url+f'{year}'\n",
    "\n",
    "    if year > 2010:\n",
    "        html = requests.get(url).content\n",
    "\n",
    "    else:\n",
    "        driver_path = \"../../chrome_driver/chromedriver.exe\"\n",
    "        driver = webdriver.Chrome(executable_path=driver_path)\n",
    "        driver.get(url);\n",
    "        html_content =  WebDriverWait(driver, 10).until(EC.presence_of_element_located((By.ID, \"section-scroll\")))\n",
    "        html = html_content.get_attribute('outerHTML')\n",
    "        driver.quit()\n",
    "\n",
    "\n",
    "    soup = bs(html, 'html.parser')\n",
    "    div_card = soup.find('div', class_=\"cards\")# this div is to isolate all the events links\n",
    "\n",
    "    events = soup.findAll(\"div\", class_=\"col-md-5 col-12 not__cell__767__full\")\n",
    "    dates = soup.findAll(\"div\", class_=\"col-md-2 col-4 not__cell__767\")\n",
    "    cities = soup.findAll(\"div\", class_=\"col-md-3 col-4 not__cell__767\")\n",
    "    ids = div_card.findAll('a', href=True)\n",
    "\n",
    "    text_events = []\n",
    "    text_dates = []\n",
    "    text_cities = []\n",
    "    text_ids = []\n",
    "\n",
    "    for event in events: text_events.append(event.text[1:-1])\n",
    "    for date in dates: text_dates.append(date.text[2:-3])\n",
    "    for city in cities: text_cities.append(city.text[3:-2])\n",
    "    for id in ids: text_ids.append(id['href'][-3:])\n",
    "\n",
    "    event_dict = {\n",
    "        \"Event\":text_events,\n",
    "        \"Date\":text_dates,\n",
    "        \"City\":text_cities,\n",
    "        \"Event_id\":text_ids,\n",
    "        \"Category\":category\n",
    "    }\n",
    "\n",
    "    df = pd.DataFrame(event_dict)\n",
    "\n",
    "    return df"
   ]
  },
  {
   "cell_type": "code",
   "execution_count": 21,
   "metadata": {},
   "outputs": [],
   "source": [
    "new_category_url = \"https://iwf.sport/results/results-by-events/?event_year=\"\n",
    "old_category_url = \"https://iwf.sport/results/results-by-events/results-by-events-old-bw/?event_year=\""
   ]
  },
  {
   "cell_type": "code",
   "execution_count": 22,
   "metadata": {},
   "outputs": [],
   "source": [
    "new_category_years = list(range(2018, 2023 + 1)) # The website url year gos from 2018 till 2023\n",
    "old_category_years = list(range(1998, 2018 + 1)) # The website url year gos from 1998 till 2018"
   ]
  },
  {
   "cell_type": "code",
   "execution_count": 23,
   "metadata": {},
   "outputs": [],
   "source": [
    "def make_df(url, years, category):\n",
    "    dataframes = []\n",
    "    erros = []\n",
    "    for year in years:\n",
    "        try:\n",
    "            dataframes.append(find_data(url, year,category))\n",
    "        except:\n",
    "            erros.append(year)\n",
    "\n",
    "    df = pd.concat(dataframes)\n",
    "\n",
    "    return [df, erros]"
   ]
  },
  {
   "cell_type": "code",
   "execution_count": 24,
   "metadata": {},
   "outputs": [],
   "source": [
    "new_category_results = make_df(new_category_url, new_category_years, \"new category\")\n",
    "old_category_results = make_df(old_category_url, old_category_years, \"old category\")"
   ]
  },
  {
   "cell_type": "code",
   "execution_count": 25,
   "metadata": {},
   "outputs": [
    {
     "name": "stdout",
     "output_type": "stream",
     "text": [
      "[] [2009]\n"
     ]
    }
   ],
   "source": [
    "new_category_erros = new_category_results[1]\n",
    "old_category_erros = old_category_results[1]\n",
    "\n",
    "print(new_category_erros, old_category_erros)"
   ]
  },
  {
   "cell_type": "code",
   "execution_count": 26,
   "metadata": {},
   "outputs": [],
   "source": [
    "new_category_df = new_category_results[0]\n",
    "old_category_df = old_category_results[0]"
   ]
  },
  {
   "cell_type": "code",
   "execution_count": 27,
   "metadata": {},
   "outputs": [],
   "source": [
    "main_df = pd.concat([new_category_df, old_category_df])"
   ]
  },
  {
   "cell_type": "markdown",
   "metadata": {},
   "source": [
    "Fixing the date"
   ]
  },
  {
   "cell_type": "code",
   "execution_count": 28,
   "metadata": {},
   "outputs": [],
   "source": [
    "def fix_date(date_column):\n",
    "    date_list=[]\n",
    "\n",
    "    for date in date_column:\n",
    "        date_int = datetime.strptime(date, \"%b %d, %Y\")\n",
    "        date_list.append(date_int)\n",
    "        \n",
    "    return date_list"
   ]
  },
  {
   "cell_type": "code",
   "execution_count": 29,
   "metadata": {},
   "outputs": [],
   "source": [
    "main_df[\"Date\"] = fix_date(main_df[\"Date\"])"
   ]
  },
  {
   "cell_type": "markdown",
   "metadata": {},
   "source": [
    "Fixing cities"
   ]
  },
  {
   "cell_type": "code",
   "execution_count": 30,
   "metadata": {},
   "outputs": [
    {
     "data": {
      "text/html": [
       "<div>\n",
       "<style scoped>\n",
       "    .dataframe tbody tr th:only-of-type {\n",
       "        vertical-align: middle;\n",
       "    }\n",
       "\n",
       "    .dataframe tbody tr th {\n",
       "        vertical-align: top;\n",
       "    }\n",
       "\n",
       "    .dataframe thead th {\n",
       "        text-align: right;\n",
       "    }\n",
       "</style>\n",
       "<table border=\"1\" class=\"dataframe\">\n",
       "  <thead>\n",
       "    <tr style=\"text-align: right;\">\n",
       "      <th></th>\n",
       "      <th>Event</th>\n",
       "      <th>Date</th>\n",
       "      <th>City</th>\n",
       "      <th>Event_id</th>\n",
       "      <th>Category</th>\n",
       "    </tr>\n",
       "  </thead>\n",
       "  <tbody>\n",
       "    <tr>\n",
       "      <th>0</th>\n",
       "      <td>5th International Qatar Cup</td>\n",
       "      <td>2018-12-19</td>\n",
       "      <td>DOHA, QAT</td>\n",
       "      <td>444</td>\n",
       "      <td>new category</td>\n",
       "    </tr>\n",
       "    <tr>\n",
       "      <th>1</th>\n",
       "      <td>5th International Solidarity Championships</td>\n",
       "      <td>2018-12-08</td>\n",
       "      <td>CAIRO, EGY</td>\n",
       "      <td>445</td>\n",
       "      <td>new category</td>\n",
       "    </tr>\n",
       "    <tr>\n",
       "      <th>2</th>\n",
       "      <td>II International Senior CSLP Cup</td>\n",
       "      <td>2018-12-07</td>\n",
       "      <td>Guayaquil, ECU</td>\n",
       "      <td>442</td>\n",
       "      <td>new category</td>\n",
       "    </tr>\n",
       "    <tr>\n",
       "      <th>3</th>\n",
       "      <td>II International Junior CSLP Cup</td>\n",
       "      <td>2018-12-07</td>\n",
       "      <td>Guayaquil, ECU</td>\n",
       "      <td>443</td>\n",
       "      <td>new category</td>\n",
       "    </tr>\n",
       "    <tr>\n",
       "      <th>4</th>\n",
       "      <td>2018 IWF World Championships</td>\n",
       "      <td>2018-11-01</td>\n",
       "      <td>Ashgabat, TKM</td>\n",
       "      <td>441</td>\n",
       "      <td>new category</td>\n",
       "    </tr>\n",
       "  </tbody>\n",
       "</table>\n",
       "</div>"
      ],
      "text/plain": [
       "                                        Event       Date            City  \\\n",
       "0                 5th International Qatar Cup 2018-12-19       DOHA, QAT   \n",
       "1  5th International Solidarity Championships 2018-12-08      CAIRO, EGY   \n",
       "2            II International Senior CSLP Cup 2018-12-07  Guayaquil, ECU   \n",
       "3            II International Junior CSLP Cup 2018-12-07  Guayaquil, ECU   \n",
       "4                2018 IWF World Championships 2018-11-01   Ashgabat, TKM   \n",
       "\n",
       "  Event_id      Category  \n",
       "0      444  new category  \n",
       "1      445  new category  \n",
       "2      442  new category  \n",
       "3      443  new category  \n",
       "4      441  new category  "
      ]
     },
     "execution_count": 30,
     "metadata": {},
     "output_type": "execute_result"
    }
   ],
   "source": [
    "main_df.head()"
   ]
  },
  {
   "cell_type": "code",
   "execution_count": 31,
   "metadata": {},
   "outputs": [],
   "source": [
    "def fix_place(column, type):\n",
    "\n",
    "    new_places=[]\n",
    "\n",
    "    if type == \"City\":\n",
    "            \n",
    "        for city in column:\n",
    "            new_places.append(city[:-5])\n",
    "    \n",
    "    if type == \"Country\":\n",
    "\n",
    "        for country in column:\n",
    "            new_places.append(country[-3:])\n",
    "\n",
    "    return new_places"
   ]
  },
  {
   "cell_type": "code",
   "execution_count": 32,
   "metadata": {},
   "outputs": [],
   "source": [
    "main_df[\"Country\"] = fix_place(main_df[\"City\"], \"Country\")\n",
    "main_df[\"City\"] = fix_place(main_df[\"City\"], \"City\")"
   ]
  },
  {
   "cell_type": "code",
   "execution_count": 33,
   "metadata": {},
   "outputs": [
    {
     "data": {
      "text/html": [
       "<div>\n",
       "<style scoped>\n",
       "    .dataframe tbody tr th:only-of-type {\n",
       "        vertical-align: middle;\n",
       "    }\n",
       "\n",
       "    .dataframe tbody tr th {\n",
       "        vertical-align: top;\n",
       "    }\n",
       "\n",
       "    .dataframe thead th {\n",
       "        text-align: right;\n",
       "    }\n",
       "</style>\n",
       "<table border=\"1\" class=\"dataframe\">\n",
       "  <thead>\n",
       "    <tr style=\"text-align: right;\">\n",
       "      <th></th>\n",
       "      <th>Event</th>\n",
       "      <th>Date</th>\n",
       "      <th>City</th>\n",
       "      <th>Event_id</th>\n",
       "      <th>Category</th>\n",
       "      <th>Country</th>\n",
       "    </tr>\n",
       "  </thead>\n",
       "  <tbody>\n",
       "    <tr>\n",
       "      <th>0</th>\n",
       "      <td>5th International Qatar Cup</td>\n",
       "      <td>2018-12-19</td>\n",
       "      <td>DOHA</td>\n",
       "      <td>444</td>\n",
       "      <td>new category</td>\n",
       "      <td>QAT</td>\n",
       "    </tr>\n",
       "    <tr>\n",
       "      <th>1</th>\n",
       "      <td>5th International Solidarity Championships</td>\n",
       "      <td>2018-12-08</td>\n",
       "      <td>CAIRO</td>\n",
       "      <td>445</td>\n",
       "      <td>new category</td>\n",
       "      <td>EGY</td>\n",
       "    </tr>\n",
       "    <tr>\n",
       "      <th>2</th>\n",
       "      <td>II International Senior CSLP Cup</td>\n",
       "      <td>2018-12-07</td>\n",
       "      <td>Guayaquil</td>\n",
       "      <td>442</td>\n",
       "      <td>new category</td>\n",
       "      <td>ECU</td>\n",
       "    </tr>\n",
       "    <tr>\n",
       "      <th>3</th>\n",
       "      <td>II International Junior CSLP Cup</td>\n",
       "      <td>2018-12-07</td>\n",
       "      <td>Guayaquil</td>\n",
       "      <td>443</td>\n",
       "      <td>new category</td>\n",
       "      <td>ECU</td>\n",
       "    </tr>\n",
       "    <tr>\n",
       "      <th>4</th>\n",
       "      <td>2018 IWF World Championships</td>\n",
       "      <td>2018-11-01</td>\n",
       "      <td>Ashgabat</td>\n",
       "      <td>441</td>\n",
       "      <td>new category</td>\n",
       "      <td>TKM</td>\n",
       "    </tr>\n",
       "  </tbody>\n",
       "</table>\n",
       "</div>"
      ],
      "text/plain": [
       "                                        Event       Date       City Event_id  \\\n",
       "0                 5th International Qatar Cup 2018-12-19       DOHA      444   \n",
       "1  5th International Solidarity Championships 2018-12-08      CAIRO      445   \n",
       "2            II International Senior CSLP Cup 2018-12-07  Guayaquil      442   \n",
       "3            II International Junior CSLP Cup 2018-12-07  Guayaquil      443   \n",
       "4                2018 IWF World Championships 2018-11-01   Ashgabat      441   \n",
       "\n",
       "       Category Country  \n",
       "0  new category     QAT  \n",
       "1  new category     EGY  \n",
       "2  new category     ECU  \n",
       "3  new category     ECU  \n",
       "4  new category     TKM  "
      ]
     },
     "execution_count": 33,
     "metadata": {},
     "output_type": "execute_result"
    }
   ],
   "source": [
    "main_df.head()"
   ]
  },
  {
   "cell_type": "markdown",
   "metadata": {},
   "source": [
    "Fixing id"
   ]
  },
  {
   "cell_type": "code",
   "execution_count": 34,
   "metadata": {},
   "outputs": [],
   "source": [
    "def fix_id(column):\n",
    "    new_ids=[]\n",
    "    ids_erros=[]\n",
    "\n",
    "    for id in column:\n",
    "\n",
    "        try:\n",
    "            if id[0] == 'd': new_ids.append(int(id[2:]))\n",
    "            if id[0] == '=': new_ids.append(int(id[1:]))\n",
    "            else: new_ids.append(int(id))\n",
    "        except:\n",
    "            ids_erros.append(id)\n",
    "\n",
    "    return [new_ids, ids_erros]"
   ]
  },
  {
   "cell_type": "code",
   "execution_count": 35,
   "metadata": {},
   "outputs": [],
   "source": [
    "main_df[\"Event_id\"] = fix_id(main_df[\"Event_id\"])[0]"
   ]
  },
  {
   "cell_type": "code",
   "execution_count": 36,
   "metadata": {},
   "outputs": [],
   "source": [
    "main_df.to_excel(\"../../data/events_date.xlsx\", index=False)"
   ]
  }
 ],
 "metadata": {
  "kernelspec": {
   "display_name": "base",
   "language": "python",
   "name": "python3"
  },
  "language_info": {
   "codemirror_mode": {
    "name": "ipython",
    "version": 3
   },
   "file_extension": ".py",
   "mimetype": "text/x-python",
   "name": "python",
   "nbconvert_exporter": "python",
   "pygments_lexer": "ipython3",
   "version": "3.11.5"
  }
 },
 "nbformat": 4,
 "nbformat_minor": 2
}
