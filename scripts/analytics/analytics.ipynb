{
 "cells": [
  {
   "cell_type": "code",
   "execution_count": 3,
   "metadata": {},
   "outputs": [],
   "source": [
    "import pandas as pd"
   ]
  },
  {
   "cell_type": "code",
   "execution_count": 4,
   "metadata": {},
   "outputs": [],
   "source": [
    "main_df = pd.read_excel(\"../../data/main_df.xlsx\")"
   ]
  },
  {
   "cell_type": "code",
   "execution_count": 5,
   "metadata": {},
   "outputs": [
    {
     "data": {
      "text/html": [
       "<div>\n",
       "<style scoped>\n",
       "    .dataframe tbody tr th:only-of-type {\n",
       "        vertical-align: middle;\n",
       "    }\n",
       "\n",
       "    .dataframe tbody tr th {\n",
       "        vertical-align: top;\n",
       "    }\n",
       "\n",
       "    .dataframe thead th {\n",
       "        text-align: right;\n",
       "    }\n",
       "</style>\n",
       "<table border=\"1\" class=\"dataframe\">\n",
       "  <thead>\n",
       "    <tr style=\"text-align: right;\">\n",
       "      <th></th>\n",
       "      <th>Event_id</th>\n",
       "      <th>Event</th>\n",
       "      <th>Date</th>\n",
       "      <th>City</th>\n",
       "      <th>Country</th>\n",
       "      <th>Rank</th>\n",
       "      <th>Name</th>\n",
       "      <th>Nation</th>\n",
       "      <th>Born</th>\n",
       "      <th>Age</th>\n",
       "      <th>Gender</th>\n",
       "      <th>Category type</th>\n",
       "      <th>Category</th>\n",
       "      <th>B.weight</th>\n",
       "      <th>Snatch</th>\n",
       "      <th>CI&amp;Jerk</th>\n",
       "      <th>Total</th>\n",
       "      <th>Indicador</th>\n",
       "    </tr>\n",
       "  </thead>\n",
       "  <tbody>\n",
       "    <tr>\n",
       "      <th>0</th>\n",
       "      <td>444</td>\n",
       "      <td>5th International Qatar Cup</td>\n",
       "      <td>2018-12-19</td>\n",
       "      <td>DOHA</td>\n",
       "      <td>QAT</td>\n",
       "      <td>1</td>\n",
       "      <td>HIRAI Hayato</td>\n",
       "      <td>Japan</td>\n",
       "      <td>1994-08-08</td>\n",
       "      <td>24</td>\n",
       "      <td>man</td>\n",
       "      <td>new category</td>\n",
       "      <td>61kg</td>\n",
       "      <td>60.5</td>\n",
       "      <td>124.0</td>\n",
       "      <td>148.0</td>\n",
       "      <td>272.0</td>\n",
       "      <td>4.495868</td>\n",
       "    </tr>\n",
       "    <tr>\n",
       "      <th>1</th>\n",
       "      <td>444</td>\n",
       "      <td>5th International Qatar Cup</td>\n",
       "      <td>2018-12-19</td>\n",
       "      <td>DOHA</td>\n",
       "      <td>QAT</td>\n",
       "      <td>2</td>\n",
       "      <td>SON Igor</td>\n",
       "      <td>Kazakhstan</td>\n",
       "      <td>1998-11-16</td>\n",
       "      <td>20</td>\n",
       "      <td>man</td>\n",
       "      <td>new category</td>\n",
       "      <td>61kg</td>\n",
       "      <td>58.6</td>\n",
       "      <td>118.0</td>\n",
       "      <td>149.0</td>\n",
       "      <td>267.0</td>\n",
       "      <td>4.556314</td>\n",
       "    </tr>\n",
       "  </tbody>\n",
       "</table>\n",
       "</div>"
      ],
      "text/plain": [
       "   Event_id                        Event       Date  City Country  Rank  \\\n",
       "0       444  5th International Qatar Cup 2018-12-19  DOHA     QAT     1   \n",
       "1       444  5th International Qatar Cup 2018-12-19  DOHA     QAT     2   \n",
       "\n",
       "           Name      Nation       Born  Age Gender Category type Category  \\\n",
       "0  HIRAI Hayato       Japan 1994-08-08   24    man  new category     61kg   \n",
       "1      SON Igor  Kazakhstan 1998-11-16   20    man  new category     61kg   \n",
       "\n",
       "   B.weight  Snatch  CI&Jerk  Total  Indicador  \n",
       "0      60.5   124.0    148.0  272.0   4.495868  \n",
       "1      58.6   118.0    149.0  267.0   4.556314  "
      ]
     },
     "execution_count": 5,
     "metadata": {},
     "output_type": "execute_result"
    }
   ],
   "source": [
    "main_df.head(2)"
   ]
  },
  {
   "cell_type": "markdown",
   "metadata": {},
   "source": [
    "# Correlation"
   ]
  },
  {
   "cell_type": "markdown",
   "metadata": {},
   "source": [
    "Excluding lifts == 0. When lift is equal to zero means that the lifter missed the lift."
   ]
  },
  {
   "cell_type": "code",
   "execution_count": 6,
   "metadata": {},
   "outputs": [],
   "source": [
    "def remove_lift(df):\n",
    "    lifts_to_exclude=[]\n",
    "\n",
    "    for index in range(len(df)):\n",
    "\n",
    "        snatch = df[\"Snatch\"][index]\n",
    "        c_j = df[\"CI&Jerk\"][index]\n",
    "\n",
    "        if snatch == 0 or c_j == 0: \n",
    "            lifts_to_exclude.append(index)\n",
    "    \n",
    "    return lifts_to_exclude"
   ]
  },
  {
   "cell_type": "code",
   "execution_count": 7,
   "metadata": {},
   "outputs": [],
   "source": [
    "df_to_correlation = main_df.drop(remove_lift(main_df))"
   ]
  },
  {
   "cell_type": "markdown",
   "metadata": {},
   "source": [
    "Calculating correlations"
   ]
  },
  {
   "cell_type": "code",
   "execution_count": 8,
   "metadata": {},
   "outputs": [],
   "source": [
    "c_snatch = df_to_correlation[\"Snatch\"]\n",
    "c_clean = df_to_correlation[\"CI&Jerk\"]\n",
    "c_total = df_to_correlation[\"Total\"]\n",
    "c_bodyweight = df_to_correlation[\"B.weight\"]\n",
    "c_age = df_to_correlation[\"Age\"]"
   ]
  },
  {
   "cell_type": "code",
   "execution_count": 9,
   "metadata": {},
   "outputs": [],
   "source": [
    "#bodyweight\n",
    "cor_snatch_bodyweight = c_snatch.corr(c_bodyweight)\n",
    "cor_clean_bodyweight = c_clean.corr(c_bodyweight)\n",
    "cor_total_bodyweight = c_total.corr(c_bodyweight)\n",
    "\n",
    "#age\n",
    "cor_snatch_age = c_snatch.corr(c_age)\n",
    "cor_clean_age = c_clean.corr(c_age)\n",
    "cor_total_age = c_total.corr(c_age)\n",
    "\n",
    "#lifts\n",
    "cor_snatch_clean = c_snatch.corr(c_snatch)"
   ]
  },
  {
   "cell_type": "markdown",
   "metadata": {},
   "source": [
    "Bodyweight"
   ]
  },
  {
   "cell_type": "code",
   "execution_count": 10,
   "metadata": {},
   "outputs": [
    {
     "name": "stdout",
     "output_type": "stream",
     "text": [
      "Bodyweight x Snatch: 0.67\n",
      "Bodyweight x C&J: 0.68\n",
      "Bodyweight x Total: 0.68\n"
     ]
    }
   ],
   "source": [
    "print(f'Bodyweight x Snatch: {round(cor_snatch_bodyweight,2)}')\n",
    "print(f'Bodyweight x C&J: {round(cor_clean_bodyweight,2)}')\n",
    "print(f'Bodyweight x Total: {round(cor_total_bodyweight,2)}')"
   ]
  },
  {
   "cell_type": "markdown",
   "metadata": {},
   "source": [
    "Age"
   ]
  },
  {
   "cell_type": "code",
   "execution_count": 11,
   "metadata": {},
   "outputs": [
    {
     "name": "stdout",
     "output_type": "stream",
     "text": [
      "age x Snatch: 0.29\n",
      "age x C&J: 0.29\n",
      "age x Total: 0.29\n"
     ]
    }
   ],
   "source": [
    "print(f'age x Snatch: {round(cor_snatch_age,2)}')\n",
    "print(f'age x C&J: {round(cor_clean_age,2)}')\n",
    "print(f'age x Total: {round(cor_total_age,2)}')"
   ]
  }
 ],
 "metadata": {
  "kernelspec": {
   "display_name": "base",
   "language": "python",
   "name": "python3"
  },
  "language_info": {
   "codemirror_mode": {
    "name": "ipython",
    "version": 3
   },
   "file_extension": ".py",
   "mimetype": "text/x-python",
   "name": "python",
   "nbconvert_exporter": "python",
   "pygments_lexer": "ipython3",
   "version": "3.11.5"
  }
 },
 "nbformat": 4,
 "nbformat_minor": 2
}
